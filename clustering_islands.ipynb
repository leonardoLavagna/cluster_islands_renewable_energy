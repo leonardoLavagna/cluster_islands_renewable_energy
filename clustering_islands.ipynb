{
  "nbformat": 4,
  "nbformat_minor": 0,
  "metadata": {
    "colab": {
      "provenance": []
    },
    "kernelspec": {
      "name": "python3",
      "display_name": "Python 3"
    },
    "language_info": {
      "name": "python"
    }
  },
  "cells": [
    {
      "cell_type": "markdown",
      "source": [
        "# Clustering Island based on renewable energy availability"
      ],
      "metadata": {
        "id": "N2ywA3Er2xwM"
      }
    },
    {
      "cell_type": "markdown",
      "source": [
        "In this notebook we carry out a simple clustering of islands based on renewable energy availability. This is a simple educational project that should help you get started with the [Google Earth Engine](https://earthengine.google.com/) API. The main steps of this project are:\n",
        "- Extract islands from the [LISB 2017](https://developers.google.com/earth-engine/datasets/catalog/USDOS_LSIB_SIMPLE_2017?hl=it) dataset and the [JRC Global Surface Water Mapping Layers](https://developers.google.com/earth-engine/datasets/catalog/JRC_GSW1_4_GlobalSurfaceWater?hl=it) dataset by selecting the landmasses that have a prevalence of water surrounding them;\n",
        "- Associate to the extracted islands solar and wind power availability from the [ERA5-Land Monthly Aggregated](https://developers.google.com/earth-engine/datasets/catalog/ECMWF_ERA5_LAND_MONTHLY_AGGR) dataset.\n",
        "\n",
        "These steps are useful to start playing around with Google Earth Engine with Python (it is also possible to interact directly with the engine via Javascript). Try to change some parameters (e.g. the `buffer_zone_size`) and see how the detection of islands interactively change. Also the geometries considered could trigger a timeout error and it is useful to try to work around this kind of limitations (e.g. by batching the requests or simplify the geomteries)."
      ],
      "metadata": {
        "id": "5Pbbs2V3-ipY"
      }
    },
    {
      "cell_type": "markdown",
      "source": [
        "## Setup"
      ],
      "metadata": {
        "id": "FHTSb33N2z14"
      }
    },
    {
      "cell_type": "markdown",
      "source": [
        "Here we import the needed libraries and define global variables. To run this step you need to sign up on Google Earth Engine and create a project with a project name. Without loss of generality in the following cell the project name is `*****`. you need to change this variable to your project name. If you cannot connect to Google Earth Engine and working with this API is unconfortable, you can just use the dataset `islands.csv` associated to this project."
      ],
      "metadata": {
        "id": "RlYVaezT_7dd"
      }
    },
    {
      "cell_type": "code",
      "source": [
        "import ee\n",
        "import geemap\n",
        "import pandas as pd\n",
        "import time\n",
        "from datetime import datetime\n",
        "import json"
      ],
      "metadata": {
        "id": "AzRPv1LKw5q9"
      },
      "execution_count": 1,
      "outputs": []
    },
    {
      "cell_type": "code",
      "source": [
        "import matplotlib.pyplot as plt\n",
        "from sklearn.preprocessing import StandardScaler\n",
        "from sklearn.cluster import KMeans"
      ],
      "metadata": {
        "colab": {
          "base_uri": "https://localhost:8080/",
          "height": 17
        },
        "id": "pFIYWlmFE_da",
        "outputId": "5928a83b-654b-4e4e-db47-edc3d38d2826"
      },
      "execution_count": 2,
      "outputs": [
        {
          "output_type": "display_data",
          "data": {
            "text/plain": [
              "<IPython.core.display.HTML object>"
            ],
            "text/html": [
              "\n",
              "            <style>\n",
              "                .geemap-dark {\n",
              "                    --jp-widgets-color: white;\n",
              "                    --jp-widgets-label-color: white;\n",
              "                    --jp-ui-font-color1: white;\n",
              "                    --jp-layout-color2: #454545;\n",
              "                    background-color: #383838;\n",
              "                }\n",
              "\n",
              "                .geemap-dark .jupyter-button {\n",
              "                    --jp-layout-color3: #383838;\n",
              "                }\n",
              "\n",
              "                .geemap-colab {\n",
              "                    background-color: var(--colab-primary-surface-color, white);\n",
              "                }\n",
              "\n",
              "                .geemap-colab .jupyter-button {\n",
              "                    --jp-layout-color3: var(--colab-primary-surface-color, white);\n",
              "                }\n",
              "            </style>\n",
              "            "
            ]
          },
          "metadata": {}
        }
      ]
    },
    {
      "cell_type": "code",
      "source": [
        "import geopandas as gpd\n",
        "from shapely.geometry import shape"
      ],
      "metadata": {
        "colab": {
          "base_uri": "https://localhost:8080/",
          "height": 17
        },
        "id": "cno4hu-r3T_S",
        "outputId": "004989d4-b4f1-45ab-95a9-efbc5ae86d39"
      },
      "execution_count": 3,
      "outputs": [
        {
          "output_type": "display_data",
          "data": {
            "text/plain": [
              "<IPython.core.display.HTML object>"
            ],
            "text/html": [
              "\n",
              "            <style>\n",
              "                .geemap-dark {\n",
              "                    --jp-widgets-color: white;\n",
              "                    --jp-widgets-label-color: white;\n",
              "                    --jp-ui-font-color1: white;\n",
              "                    --jp-layout-color2: #454545;\n",
              "                    background-color: #383838;\n",
              "                }\n",
              "\n",
              "                .geemap-dark .jupyter-button {\n",
              "                    --jp-layout-color3: #383838;\n",
              "                }\n",
              "\n",
              "                .geemap-colab {\n",
              "                    background-color: var(--colab-primary-surface-color, white);\n",
              "                }\n",
              "\n",
              "                .geemap-colab .jupyter-button {\n",
              "                    --jp-layout-color3: var(--colab-primary-surface-color, white);\n",
              "                }\n",
              "            </style>\n",
              "            "
            ]
          },
          "metadata": {}
        }
      ]
    },
    {
      "cell_type": "code",
      "source": [
        "project_name = '*****'\n",
        "ee.Authenticate()\n",
        "ee.Initialize(project=project_name)"
      ],
      "metadata": {
        "colab": {
          "base_uri": "https://localhost:8080/",
          "height": 17
        },
        "id": "q0GOx_6TJvX9",
        "outputId": "cd04010a-f50d-4ed8-e767-9095d7d28564"
      },
      "execution_count": 4,
      "outputs": [
        {
          "output_type": "display_data",
          "data": {
            "text/plain": [
              "<IPython.core.display.HTML object>"
            ],
            "text/html": [
              "\n",
              "            <style>\n",
              "                .geemap-dark {\n",
              "                    --jp-widgets-color: white;\n",
              "                    --jp-widgets-label-color: white;\n",
              "                    --jp-ui-font-color1: white;\n",
              "                    --jp-layout-color2: #454545;\n",
              "                    background-color: #383838;\n",
              "                }\n",
              "\n",
              "                .geemap-dark .jupyter-button {\n",
              "                    --jp-layout-color3: #383838;\n",
              "                }\n",
              "\n",
              "                .geemap-colab {\n",
              "                    background-color: var(--colab-primary-surface-color, white);\n",
              "                }\n",
              "\n",
              "                .geemap-colab .jupyter-button {\n",
              "                    --jp-layout-color3: var(--colab-primary-surface-color, white);\n",
              "                }\n",
              "            </style>\n",
              "            "
            ]
          },
          "metadata": {}
        }
      ]
    },
    {
      "cell_type": "code",
      "source": [
        "area_threshold = 50000\n",
        "water_threshold = 75\n",
        "buffer_zone_size = 10000\n",
        "start_date = '2023-01-01'\n",
        "end_date = '2023-12-31'"
      ],
      "metadata": {
        "colab": {
          "base_uri": "https://localhost:8080/",
          "height": 17
        },
        "id": "2TWbj-bpMJX8",
        "outputId": "637a5d12-476e-4413-af9e-df8ab25556ff"
      },
      "execution_count": 5,
      "outputs": [
        {
          "output_type": "display_data",
          "data": {
            "text/plain": [
              "<IPython.core.display.HTML object>"
            ],
            "text/html": [
              "\n",
              "            <style>\n",
              "                .geemap-dark {\n",
              "                    --jp-widgets-color: white;\n",
              "                    --jp-widgets-label-color: white;\n",
              "                    --jp-ui-font-color1: white;\n",
              "                    --jp-layout-color2: #454545;\n",
              "                    background-color: #383838;\n",
              "                }\n",
              "\n",
              "                .geemap-dark .jupyter-button {\n",
              "                    --jp-layout-color3: #383838;\n",
              "                }\n",
              "\n",
              "                .geemap-colab {\n",
              "                    background-color: var(--colab-primary-surface-color, white);\n",
              "                }\n",
              "\n",
              "                .geemap-colab .jupyter-button {\n",
              "                    --jp-layout-color3: var(--colab-primary-surface-color, white);\n",
              "                }\n",
              "            </style>\n",
              "            "
            ]
          },
          "metadata": {}
        }
      ]
    },
    {
      "cell_type": "code",
      "source": [
        "Map = geemap.Map()\n",
        "start = datetime.strptime(start_date, '%Y-%m-%d')\n",
        "end = datetime.strptime(end_date, '%Y-%m-%d')\n",
        "delta = end - start\n",
        "days = delta.days"
      ],
      "metadata": {
        "colab": {
          "base_uri": "https://localhost:8080/",
          "height": 17
        },
        "id": "wlPzkyKMM6Dw",
        "outputId": "4ede3dc8-3986-46de-d249-016651e10fb6"
      },
      "execution_count": 6,
      "outputs": [
        {
          "output_type": "display_data",
          "data": {
            "text/plain": [
              "<IPython.core.display.HTML object>"
            ],
            "text/html": [
              "\n",
              "            <style>\n",
              "                .geemap-dark {\n",
              "                    --jp-widgets-color: white;\n",
              "                    --jp-widgets-label-color: white;\n",
              "                    --jp-ui-font-color1: white;\n",
              "                    --jp-layout-color2: #454545;\n",
              "                    background-color: #383838;\n",
              "                }\n",
              "\n",
              "                .geemap-dark .jupyter-button {\n",
              "                    --jp-layout-color3: #383838;\n",
              "                }\n",
              "\n",
              "                .geemap-colab {\n",
              "                    background-color: var(--colab-primary-surface-color, white);\n",
              "                }\n",
              "\n",
              "                .geemap-colab .jupyter-button {\n",
              "                    --jp-layout-color3: var(--colab-primary-surface-color, white);\n",
              "                }\n",
              "            </style>\n",
              "            "
            ]
          },
          "metadata": {}
        }
      ]
    },
    {
      "cell_type": "markdown",
      "source": [
        "## Get islands"
      ],
      "metadata": {
        "id": "uDEvgym9205X"
      }
    },
    {
      "cell_type": "markdown",
      "source": [
        "To get the islands we consider small landmasses (potential islands) which have a \"buffer zone\" that intersects water for a hiigh percentage of their territory. Notice that just selecting small landmasses can result in the selection of enclosed areas as Andorra."
      ],
      "metadata": {
        "id": "MpXACxk-CbXh"
      }
    },
    {
      "cell_type": "code",
      "source": [
        "# Load Global Landmasses Dataset\n",
        "\n",
        "countries = ee.FeatureCollection(\"USDOS/LSIB_SIMPLE/2017\")"
      ],
      "metadata": {
        "colab": {
          "base_uri": "https://localhost:8080/",
          "height": 17
        },
        "id": "-hL_x6PmLcW4",
        "outputId": "dbf60dab-1212-481a-eaf0-6f0252fd5561"
      },
      "execution_count": 7,
      "outputs": [
        {
          "output_type": "display_data",
          "data": {
            "text/plain": [
              "<IPython.core.display.HTML object>"
            ],
            "text/html": [
              "\n",
              "            <style>\n",
              "                .geemap-dark {\n",
              "                    --jp-widgets-color: white;\n",
              "                    --jp-widgets-label-color: white;\n",
              "                    --jp-ui-font-color1: white;\n",
              "                    --jp-layout-color2: #454545;\n",
              "                    background-color: #383838;\n",
              "                }\n",
              "\n",
              "                .geemap-dark .jupyter-button {\n",
              "                    --jp-layout-color3: #383838;\n",
              "                }\n",
              "\n",
              "                .geemap-colab {\n",
              "                    background-color: var(--colab-primary-surface-color, white);\n",
              "                }\n",
              "\n",
              "                .geemap-colab .jupyter-button {\n",
              "                    --jp-layout-color3: var(--colab-primary-surface-color, white);\n",
              "                }\n",
              "            </style>\n",
              "            "
            ]
          },
          "metadata": {}
        }
      ]
    },
    {
      "cell_type": "code",
      "source": [
        "# Add area attribue to filter small landmasses (potential islands)\n",
        "\n",
        "def add_area(feature):\n",
        "    area_km2 = feature.geometry().area().divide(1e6)\n",
        "    return feature.set({'area_km2': area_km2})\n",
        "\n",
        "countries_with_area = countries.map(add_area)\n",
        "islands = countries_with_area.filter(ee.Filter.lt('area_km2', area_threshold))"
      ],
      "metadata": {
        "colab": {
          "base_uri": "https://localhost:8080/",
          "height": 17
        },
        "id": "hNnmpSijMALg",
        "outputId": "40528ccc-64ca-4a67-b08c-0cfa489de3af"
      },
      "execution_count": 8,
      "outputs": [
        {
          "output_type": "display_data",
          "data": {
            "text/plain": [
              "<IPython.core.display.HTML object>"
            ],
            "text/html": [
              "\n",
              "            <style>\n",
              "                .geemap-dark {\n",
              "                    --jp-widgets-color: white;\n",
              "                    --jp-widgets-label-color: white;\n",
              "                    --jp-ui-font-color1: white;\n",
              "                    --jp-layout-color2: #454545;\n",
              "                    background-color: #383838;\n",
              "                }\n",
              "\n",
              "                .geemap-dark .jupyter-button {\n",
              "                    --jp-layout-color3: #383838;\n",
              "                }\n",
              "\n",
              "                .geemap-colab {\n",
              "                    background-color: var(--colab-primary-surface-color, white);\n",
              "                }\n",
              "\n",
              "                .geemap-colab .jupyter-button {\n",
              "                    --jp-layout-color3: var(--colab-primary-surface-color, white);\n",
              "                }\n",
              "            </style>\n",
              "            "
            ]
          },
          "metadata": {}
        }
      ]
    },
    {
      "cell_type": "code",
      "source": [
        "# Water mask around small landmasses\n",
        "\n",
        "water = ee.Image(\"JRC/GSW1_0/GlobalSurfaceWater\").select('occurrence')\n",
        "water_mask = water.gt(water_threshold)\n",
        "\n",
        "def surrounded_by_water(feature, buffer_size = buffer_zone_size):\n",
        "    geometry = feature.geometry()\n",
        "    outer = geometry.buffer(buffer_size)\n",
        "    ring = outer.difference(geometry)\n",
        "    water_fraction = water_mask.reduceRegion(\n",
        "        reducer=ee.Reducer.mean(),\n",
        "        geometry=ring,\n",
        "        scale=500,\n",
        "        maxPixels=1e8,\n",
        "        bestEffort=True\n",
        "    ).get('occurrence')\n",
        "\n",
        "    return feature.set({'ring_water_fraction': ee.Number(water_fraction)})\n",
        "\n",
        "\n",
        "islands_buffered = islands.map(surrounded_by_water)\n",
        "true_islands = islands_buffered.filter(ee.Filter.gt('ring_water_fraction', 0.99))\n",
        "true_islands.size().getInfo()"
      ],
      "metadata": {
        "colab": {
          "base_uri": "https://localhost:8080/",
          "height": 34
        },
        "id": "b49gh73BNc2-",
        "outputId": "a96f7aa1-f31d-404e-9634-b803ac6a76a4"
      },
      "execution_count": 9,
      "outputs": [
        {
          "output_type": "display_data",
          "data": {
            "text/plain": [
              "<IPython.core.display.HTML object>"
            ],
            "text/html": [
              "\n",
              "            <style>\n",
              "                .geemap-dark {\n",
              "                    --jp-widgets-color: white;\n",
              "                    --jp-widgets-label-color: white;\n",
              "                    --jp-ui-font-color1: white;\n",
              "                    --jp-layout-color2: #454545;\n",
              "                    background-color: #383838;\n",
              "                }\n",
              "\n",
              "                .geemap-dark .jupyter-button {\n",
              "                    --jp-layout-color3: #383838;\n",
              "                }\n",
              "\n",
              "                .geemap-colab {\n",
              "                    background-color: var(--colab-primary-surface-color, white);\n",
              "                }\n",
              "\n",
              "                .geemap-colab .jupyter-button {\n",
              "                    --jp-layout-color3: var(--colab-primary-surface-color, white);\n",
              "                }\n",
              "            </style>\n",
              "            "
            ]
          },
          "metadata": {}
        },
        {
          "output_type": "execute_result",
          "data": {
            "text/plain": [
              "66"
            ]
          },
          "metadata": {},
          "execution_count": 9
        }
      ]
    },
    {
      "cell_type": "code",
      "source": [
        "# Visualization\n",
        "\n",
        "Map.addLayer(true_islands, {\"color\":\"red\"}, \"Islands\")\n",
        "Map.centerObject(true_islands, 3)\n",
        "Map.to_html('figures/islands.html', title='Islands Map')\n",
        "Map"
      ],
      "metadata": {
        "collapsed": true,
        "id": "HSURqdi6XPWT"
      },
      "execution_count": null,
      "outputs": []
    },
    {
      "cell_type": "markdown",
      "source": [
        "## Extract renewable energy features"
      ],
      "metadata": {
        "id": "ngejxXV5b2lF"
      }
    },
    {
      "cell_type": "markdown",
      "source": [
        "We extract renewable energy features and associate them to the previously extracted islands."
      ],
      "metadata": {
        "id": "Sg1BU2xUC4ES"
      }
    },
    {
      "cell_type": "code",
      "source": [
        "# Get solar power over each selected island\n",
        "\n",
        "solar_ic = ee.ImageCollection(\"ECMWF/ERA5_LAND/MONTHLY\") \\\n",
        "    .select(\"surface_solar_radiation_downwards\") \\\n",
        "    .filterDate(start_date,end_date)\n",
        "solar_mean = solar_ic.mean()\n",
        "solar_kwh = solar_mean.divide(3.6e6).divide(days).rename(\"solar_kwh_m2_day\")\n",
        "\n",
        "def add_solar_info(feature):\n",
        "    mean_solar = solar_kwh.reduceRegion(\n",
        "        reducer=ee.Reducer.mean(),\n",
        "        geometry=feature.geometry(),\n",
        "        scale=500,\n",
        "        maxPixels=1e8,\n",
        "        bestEffort=True\n",
        "    ).get('solar_kwh_m2_day')\n",
        "    return feature.set({'solar_kwh_m2_day': mean_solar})\n",
        "\n",
        "islands_with_solar = true_islands.map(add_solar_info)"
      ],
      "metadata": {
        "colab": {
          "base_uri": "https://localhost:8080/",
          "height": 17
        },
        "id": "pUHE2X_2AZ2V",
        "outputId": "6861cf0c-c0d7-4b81-96c2-90b14803aaaf"
      },
      "execution_count": 11,
      "outputs": [
        {
          "output_type": "display_data",
          "data": {
            "text/plain": [
              "<IPython.core.display.HTML object>"
            ],
            "text/html": [
              "\n",
              "            <style>\n",
              "                .geemap-dark {\n",
              "                    --jp-widgets-color: white;\n",
              "                    --jp-widgets-label-color: white;\n",
              "                    --jp-ui-font-color1: white;\n",
              "                    --jp-layout-color2: #454545;\n",
              "                    background-color: #383838;\n",
              "                }\n",
              "\n",
              "                .geemap-dark .jupyter-button {\n",
              "                    --jp-layout-color3: #383838;\n",
              "                }\n",
              "\n",
              "                .geemap-colab {\n",
              "                    background-color: var(--colab-primary-surface-color, white);\n",
              "                }\n",
              "\n",
              "                .geemap-colab .jupyter-button {\n",
              "                    --jp-layout-color3: var(--colab-primary-surface-color, white);\n",
              "                }\n",
              "            </style>\n",
              "            "
            ]
          },
          "metadata": {}
        }
      ]
    },
    {
      "cell_type": "code",
      "source": [
        "# Extract solar power to pandas DataFrame\n",
        "\n",
        "features = islands_with_solar.getInfo()['features']\n",
        "data = []\n",
        "for f in features:\n",
        "    props = f['properties']\n",
        "    props['geometry'] = f['geometry']\n",
        "    data.append(props)\n",
        "\n",
        "df = pd.DataFrame(data)"
      ],
      "metadata": {
        "colab": {
          "base_uri": "https://localhost:8080/",
          "height": 17
        },
        "id": "4yLxNtdHBXD2",
        "outputId": "45d5cbdb-321c-4549-a844-8e329194184b"
      },
      "execution_count": 12,
      "outputs": [
        {
          "output_type": "display_data",
          "data": {
            "text/plain": [
              "<IPython.core.display.HTML object>"
            ],
            "text/html": [
              "\n",
              "            <style>\n",
              "                .geemap-dark {\n",
              "                    --jp-widgets-color: white;\n",
              "                    --jp-widgets-label-color: white;\n",
              "                    --jp-ui-font-color1: white;\n",
              "                    --jp-layout-color2: #454545;\n",
              "                    background-color: #383838;\n",
              "                }\n",
              "\n",
              "                .geemap-dark .jupyter-button {\n",
              "                    --jp-layout-color3: #383838;\n",
              "                }\n",
              "\n",
              "                .geemap-colab {\n",
              "                    background-color: var(--colab-primary-surface-color, white);\n",
              "                }\n",
              "\n",
              "                .geemap-colab .jupyter-button {\n",
              "                    --jp-layout-color3: var(--colab-primary-surface-color, white);\n",
              "                }\n",
              "            </style>\n",
              "            "
            ]
          },
          "metadata": {}
        }
      ]
    },
    {
      "cell_type": "code",
      "source": [
        "print(df[['area_km2', 'solar_kwh_m2_day']])"
      ],
      "metadata": {
        "colab": {
          "base_uri": "https://localhost:8080/",
          "height": 260
        },
        "id": "Iix6_3k9Bbzd",
        "outputId": "b2a76701-f1a6-4a54-c587-05098bfd3b89"
      },
      "execution_count": 13,
      "outputs": [
        {
          "output_type": "display_data",
          "data": {
            "text/plain": [
              "<IPython.core.display.HTML object>"
            ],
            "text/html": [
              "\n",
              "            <style>\n",
              "                .geemap-dark {\n",
              "                    --jp-widgets-color: white;\n",
              "                    --jp-widgets-label-color: white;\n",
              "                    --jp-ui-font-color1: white;\n",
              "                    --jp-layout-color2: #454545;\n",
              "                    background-color: #383838;\n",
              "                }\n",
              "\n",
              "                .geemap-dark .jupyter-button {\n",
              "                    --jp-layout-color3: #383838;\n",
              "                }\n",
              "\n",
              "                .geemap-colab {\n",
              "                    background-color: var(--colab-primary-surface-color, white);\n",
              "                }\n",
              "\n",
              "                .geemap-colab .jupyter-button {\n",
              "                    --jp-layout-color3: var(--colab-primary-surface-color, white);\n",
              "                }\n",
              "            </style>\n",
              "            "
            ]
          },
          "metadata": {}
        },
        {
          "output_type": "stream",
          "name": "stdout",
          "text": [
            "       area_km2  solar_kwh_m2_day\n",
            "0    370.920266          0.002318\n",
            "1   1653.624023          0.007925\n",
            "2   4077.450215          0.004975\n",
            "3   7413.450658          0.005780\n",
            "4    792.369801          0.004998\n",
            "..          ...               ...\n",
            "61   434.544723          0.000008\n",
            "62    51.978745          0.000008\n",
            "63   142.020200          0.000008\n",
            "64    63.980582          0.000008\n",
            "65   234.672541          0.000008\n",
            "\n",
            "[66 rows x 2 columns]\n"
          ]
        }
      ]
    },
    {
      "cell_type": "code",
      "source": [
        "# Repeat for wind power\n",
        "\n",
        "u_wind = ee.ImageCollection(\"ECMWF/ERA5_LAND/MONTHLY\") \\\n",
        "    .select(\"u_component_of_wind_10m\") \\\n",
        "    .filterDate(start_date, end_date) \\\n",
        "    .mean()\n",
        "\n",
        "v_wind = ee.ImageCollection(\"ECMWF/ERA5_LAND/MONTHLY\") \\\n",
        "    .select(\"v_component_of_wind_10m\") \\\n",
        "    .filterDate(start_date, end_date) \\\n",
        "    .mean()\n",
        "\n",
        "#wind speed = sqrt(u^2 + v^2)\n",
        "wind_speed = u_wind.pow(2).add(v_wind.pow(2)).sqrt().rename(\"wind_speed_10m\")\n",
        "\n",
        "def add_wind_info(feature):\n",
        "    mean_wind = wind_speed.reduceRegion(\n",
        "        reducer=ee.Reducer.mean(),\n",
        "        geometry=feature.geometry(),\n",
        "        scale=500,\n",
        "        maxPixels=1e8,\n",
        "        bestEffort=True\n",
        "    ).get('wind_speed_10m')\n",
        "    return feature.set({'wind_speed_10m': mean_wind})\n",
        "\n",
        "\n",
        "islands_with_wind = islands_with_solar.map(add_wind_info)"
      ],
      "metadata": {
        "colab": {
          "base_uri": "https://localhost:8080/",
          "height": 17
        },
        "id": "Lgu2ryYQDzQJ",
        "outputId": "d8df1827-4995-4136-a7ab-c81c26bbdb80"
      },
      "execution_count": 14,
      "outputs": [
        {
          "output_type": "display_data",
          "data": {
            "text/plain": [
              "<IPython.core.display.HTML object>"
            ],
            "text/html": [
              "\n",
              "            <style>\n",
              "                .geemap-dark {\n",
              "                    --jp-widgets-color: white;\n",
              "                    --jp-widgets-label-color: white;\n",
              "                    --jp-ui-font-color1: white;\n",
              "                    --jp-layout-color2: #454545;\n",
              "                    background-color: #383838;\n",
              "                }\n",
              "\n",
              "                .geemap-dark .jupyter-button {\n",
              "                    --jp-layout-color3: #383838;\n",
              "                }\n",
              "\n",
              "                .geemap-colab {\n",
              "                    background-color: var(--colab-primary-surface-color, white);\n",
              "                }\n",
              "\n",
              "                .geemap-colab .jupyter-button {\n",
              "                    --jp-layout-color3: var(--colab-primary-surface-color, white);\n",
              "                }\n",
              "            </style>\n",
              "            "
            ]
          },
          "metadata": {}
        }
      ]
    },
    {
      "cell_type": "code",
      "source": [
        "# Extract wind power to pandas DataFrame\n",
        "\n",
        "features = islands_with_wind.getInfo()['features']\n",
        "data = []\n",
        "for f in features:\n",
        "    props = f['properties']\n",
        "    props['geometry'] = f['geometry']\n",
        "    data.append(props)\n",
        "\n",
        "df = pd.DataFrame(data)"
      ],
      "metadata": {
        "colab": {
          "base_uri": "https://localhost:8080/",
          "height": 17
        },
        "id": "iwJUfBnUEJIb",
        "outputId": "6e5935f1-0cab-4756-fe36-bba1073f81d0"
      },
      "execution_count": 15,
      "outputs": [
        {
          "output_type": "display_data",
          "data": {
            "text/plain": [
              "<IPython.core.display.HTML object>"
            ],
            "text/html": [
              "\n",
              "            <style>\n",
              "                .geemap-dark {\n",
              "                    --jp-widgets-color: white;\n",
              "                    --jp-widgets-label-color: white;\n",
              "                    --jp-ui-font-color1: white;\n",
              "                    --jp-layout-color2: #454545;\n",
              "                    background-color: #383838;\n",
              "                }\n",
              "\n",
              "                .geemap-dark .jupyter-button {\n",
              "                    --jp-layout-color3: #383838;\n",
              "                }\n",
              "\n",
              "                .geemap-colab {\n",
              "                    background-color: var(--colab-primary-surface-color, white);\n",
              "                }\n",
              "\n",
              "                .geemap-colab .jupyter-button {\n",
              "                    --jp-layout-color3: var(--colab-primary-surface-color, white);\n",
              "                }\n",
              "            </style>\n",
              "            "
            ]
          },
          "metadata": {}
        }
      ]
    },
    {
      "cell_type": "code",
      "source": [
        "print(df[['area_km2', 'solar_kwh_m2_day', 'wind_speed_10m']])#'ring_water_fraction'"
      ],
      "metadata": {
        "colab": {
          "base_uri": "https://localhost:8080/",
          "height": 260
        },
        "id": "Am8OsZy6ENqK",
        "outputId": "887253d2-a586-4a13-bd78-96ce530f94dc"
      },
      "execution_count": 16,
      "outputs": [
        {
          "output_type": "display_data",
          "data": {
            "text/plain": [
              "<IPython.core.display.HTML object>"
            ],
            "text/html": [
              "\n",
              "            <style>\n",
              "                .geemap-dark {\n",
              "                    --jp-widgets-color: white;\n",
              "                    --jp-widgets-label-color: white;\n",
              "                    --jp-ui-font-color1: white;\n",
              "                    --jp-layout-color2: #454545;\n",
              "                    background-color: #383838;\n",
              "                }\n",
              "\n",
              "                .geemap-dark .jupyter-button {\n",
              "                    --jp-layout-color3: #383838;\n",
              "                }\n",
              "\n",
              "                .geemap-colab {\n",
              "                    background-color: var(--colab-primary-surface-color, white);\n",
              "                }\n",
              "\n",
              "                .geemap-colab .jupyter-button {\n",
              "                    --jp-layout-color3: var(--colab-primary-surface-color, white);\n",
              "                }\n",
              "            </style>\n",
              "            "
            ]
          },
          "metadata": {}
        },
        {
          "output_type": "stream",
          "name": "stdout",
          "text": [
            "       area_km2  solar_kwh_m2_day  wind_speed_10m\n",
            "0    370.920266          0.002318        1.129254\n",
            "1   1653.624023          0.007925        0.844888\n",
            "2   4077.450215          0.004975        6.420093\n",
            "3   7413.450658          0.005780        4.527886\n",
            "4    792.369801          0.004998        2.363956\n",
            "..          ...               ...             ...\n",
            "61   434.544723          0.000008             NaN\n",
            "62    51.978745          0.000008             NaN\n",
            "63   142.020200          0.000008             NaN\n",
            "64    63.980582          0.000008             NaN\n",
            "65   234.672541          0.000008             NaN\n",
            "\n",
            "[66 rows x 3 columns]\n"
          ]
        }
      ]
    },
    {
      "cell_type": "markdown",
      "source": [
        "## Clustering"
      ],
      "metadata": {
        "id": "gk-4Zrk7fLc4"
      }
    },
    {
      "cell_type": "markdown",
      "source": [
        "Here we carry out a simple clustering of the selected islands based on the renewable energy availability."
      ],
      "metadata": {
        "id": "kckpgzkuC90_"
      }
    },
    {
      "cell_type": "code",
      "source": [
        "# Preparing dataset for clustering\n",
        "\n",
        "df_clean = df.dropna(subset=['solar_kwh_m2_day', 'wind_speed_10m'])\n",
        "X = df_clean[['solar_kwh_m2_day', 'wind_speed_10m']]\n",
        "scaler = StandardScaler()\n",
        "X_scaled = scaler.fit_transform(X)"
      ],
      "metadata": {
        "colab": {
          "base_uri": "https://localhost:8080/",
          "height": 17
        },
        "id": "0yUxbOTJfNjJ",
        "outputId": "548868af-2d77-4f7e-ce6b-1269ad5417d4"
      },
      "execution_count": 17,
      "outputs": [
        {
          "output_type": "display_data",
          "data": {
            "text/plain": [
              "<IPython.core.display.HTML object>"
            ],
            "text/html": [
              "\n",
              "            <style>\n",
              "                .geemap-dark {\n",
              "                    --jp-widgets-color: white;\n",
              "                    --jp-widgets-label-color: white;\n",
              "                    --jp-ui-font-color1: white;\n",
              "                    --jp-layout-color2: #454545;\n",
              "                    background-color: #383838;\n",
              "                }\n",
              "\n",
              "                .geemap-dark .jupyter-button {\n",
              "                    --jp-layout-color3: #383838;\n",
              "                }\n",
              "\n",
              "                .geemap-colab {\n",
              "                    background-color: var(--colab-primary-surface-color, white);\n",
              "                }\n",
              "\n",
              "                .geemap-colab .jupyter-button {\n",
              "                    --jp-layout-color3: var(--colab-primary-surface-color, white);\n",
              "                }\n",
              "            </style>\n",
              "            "
            ]
          },
          "metadata": {}
        }
      ]
    },
    {
      "cell_type": "code",
      "source": [
        "# K-means with elbow method\n",
        "\n",
        "wcss = []\n",
        "for i in range(1, 11):\n",
        "    kmeans = KMeans(n_clusters=i, random_state=42)\n",
        "    kmeans.fit(X_scaled)\n",
        "    wcss.append(kmeans.inertia_)\n",
        "\n",
        "plt.figure(figsize=(8, 6))\n",
        "plt.plot(range(1, 11), wcss, marker='o')\n",
        "plt.title('Elbow Method for Optimal K')\n",
        "plt.xlabel('Number of clusters (k)')\n",
        "plt.ylabel('WCSS (Within-cluster sum of squares)')\n",
        "plt.grid(True)\n",
        "plt.show()"
      ],
      "metadata": {
        "colab": {
          "base_uri": "https://localhost:8080/",
          "height": 564
        },
        "id": "EzjBlee7FIWP",
        "outputId": "db8a3315-cbfd-49b3-b286-e6cdcfea0fe0"
      },
      "execution_count": 18,
      "outputs": [
        {
          "output_type": "display_data",
          "data": {
            "text/plain": [
              "<IPython.core.display.HTML object>"
            ],
            "text/html": [
              "\n",
              "            <style>\n",
              "                .geemap-dark {\n",
              "                    --jp-widgets-color: white;\n",
              "                    --jp-widgets-label-color: white;\n",
              "                    --jp-ui-font-color1: white;\n",
              "                    --jp-layout-color2: #454545;\n",
              "                    background-color: #383838;\n",
              "                }\n",
              "\n",
              "                .geemap-dark .jupyter-button {\n",
              "                    --jp-layout-color3: #383838;\n",
              "                }\n",
              "\n",
              "                .geemap-colab {\n",
              "                    background-color: var(--colab-primary-surface-color, white);\n",
              "                }\n",
              "\n",
              "                .geemap-colab .jupyter-button {\n",
              "                    --jp-layout-color3: var(--colab-primary-surface-color, white);\n",
              "                }\n",
              "            </style>\n",
              "            "
            ]
          },
          "metadata": {}
        },
        {
          "output_type": "display_data",
          "data": {
            "text/plain": [
              "<Figure size 800x600 with 1 Axes>"
            ],
            "image/png": "[encoded data removed]"
          },
          "metadata": {}
        }
      ]
    },
    {
      "cell_type": "code",
      "source": [
        "# Clusters in feature space\n",
        "\n",
        "optimal_k = 3\n",
        "kmeans = KMeans(n_clusters=optimal_k, random_state=42)\n",
        "df_clean['cluster'] = kmeans.fit_predict(X_scaled)\n",
        "plt.figure(figsize=(8, 6))\n",
        "plt.scatter(df_clean['solar_kwh_m2_day'], df_clean['wind_speed_10m'], c=df_clean['cluster'], cmap='viridis')\n",
        "plt.title('Clustering of Islands based on Solar and Wind Power')\n",
        "plt.xlabel('Solar Power (kWh/m²/day)')\n",
        "plt.ylabel('Wind Speed (m/s)')\n",
        "plt.colorbar(label='Cluster')\n",
        "plt.show()\n"
      ],
      "metadata": {
        "colab": {
          "base_uri": "https://localhost:8080/",
          "height": 564
        },
        "id": "SDbIGWSvFQQh",
        "outputId": "d07228c6-c11d-48e1-9644-399791cec872"
      },
      "execution_count": 19,
      "outputs": [
        {
          "output_type": "display_data",
          "data": {
            "text/plain": [
              "<IPython.core.display.HTML object>"
            ],
            "text/html": [
              "\n",
              "            <style>\n",
              "                .geemap-dark {\n",
              "                    --jp-widgets-color: white;\n",
              "                    --jp-widgets-label-color: white;\n",
              "                    --jp-ui-font-color1: white;\n",
              "                    --jp-layout-color2: #454545;\n",
              "                    background-color: #383838;\n",
              "                }\n",
              "\n",
              "                .geemap-dark .jupyter-button {\n",
              "                    --jp-layout-color3: #383838;\n",
              "                }\n",
              "\n",
              "                .geemap-colab {\n",
              "                    background-color: var(--colab-primary-surface-color, white);\n",
              "                }\n",
              "\n",
              "                .geemap-colab .jupyter-button {\n",
              "                    --jp-layout-color3: var(--colab-primary-surface-color, white);\n",
              "                }\n",
              "            </style>\n",
              "            "
            ]
          },
          "metadata": {}
        },
        {
          "output_type": "display_data",
          "data": {
            "text/plain": [
              "<Figure size 800x600 with 2 Axes>"
            ],
            "image/png": "[encoded data removed]"
          },
          "metadata": {}
        }
      ]
    },
    {
      "cell_type": "code",
      "source": [
        "# Clustered dataframe\n",
        "\n",
        "df_clean['geometry'] = df_clean['geometry'].apply(shape)\n",
        "gdf = gpd.GeoDataFrame(df_clean, geometry='geometry')\n",
        "gdf.set_crs(epsg=4326, inplace=True)"
      ],
      "metadata": {
        "id": "p-TgC9Fx4rqO"
      },
      "execution_count": null,
      "outputs": []
    },
    {
      "cell_type": "code",
      "source": [
        "# Clusters in \"state\" space\n",
        "\n",
        "geojson_str = gdf.to_json()\n",
        "geojson_obj = json.loads(geojson_str)\n",
        "cluster_fc = geemap.geojson_to_ee(geojson_obj)\n",
        "cluster_colors = ['yellow', 'blue', 'green']\n",
        "\n",
        "Map.clear()\n",
        "for i, color in enumerate(cluster_colors):\n",
        "    cluster_i = cluster_fc.filter(ee.Filter.eq('cluster', i))\n",
        "    Map.addLayer(cluster_i.style(**{'color': color}), {}, f'Cluster {i}')\n",
        "\n",
        "Map.to_html('figures/clustered_islands.html', title='Clustered Islands Map')\n",
        "Map"
      ],
      "metadata": {
        "id": "wmPBeUkU3X_T"
      },
      "execution_count": null,
      "outputs": []
    },
    {
      "cell_type": "markdown",
      "source": [
        "## Dataset extraction\n",
        "\n",
        "If you couldn't run properly this notebook you can use this extracted csv file as starting point for the clustering: import the file as pandas dataframe and repeat the clustering steps."
      ],
      "metadata": {
        "id": "Bx2hFGPM8tey"
      }
    },
    {
      "cell_type": "code",
      "source": [
        "gdf_no_cluster = gdf.drop(columns=['cluster'])\n",
        "gdf_no_cluster.to_csv('data/islands.csv', index=False)"
      ],
      "metadata": {
        "colab": {
          "base_uri": "https://localhost:8080/",
          "height": 17
        },
        "id": "x4xNqBOJ8snc",
        "outputId": "c517235d-e411-4ff6-fdb5-69d9719aac46"
      },
      "execution_count": 22,
      "outputs": [
        {
          "output_type": "display_data",
          "data": {
            "text/plain": [
              "<IPython.core.display.HTML object>"
            ],
            "text/html": [
              "\n",
              "            <style>\n",
              "                .geemap-dark {\n",
              "                    --jp-widgets-color: white;\n",
              "                    --jp-widgets-label-color: white;\n",
              "                    --jp-ui-font-color1: white;\n",
              "                    --jp-layout-color2: #454545;\n",
              "                    background-color: #383838;\n",
              "                }\n",
              "\n",
              "                .geemap-dark .jupyter-button {\n",
              "                    --jp-layout-color3: #383838;\n",
              "                }\n",
              "\n",
              "                .geemap-colab {\n",
              "                    background-color: var(--colab-primary-surface-color, white);\n",
              "                }\n",
              "\n",
              "                .geemap-colab .jupyter-button {\n",
              "                    --jp-layout-color3: var(--colab-primary-surface-color, white);\n",
              "                }\n",
              "            </style>\n",
              "            "
            ]
          },
          "metadata": {}
        }
      ]
    }
  ]
}